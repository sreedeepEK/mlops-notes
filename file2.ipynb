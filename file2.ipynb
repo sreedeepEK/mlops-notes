{
 "cells": [
  {
   "cell_type": "code",
   "execution_count": 1,
   "id": "20dc9977",
   "metadata": {},
   "outputs": [],
   "source": [
    "import pandas as pd\n",
    "import mlflow\n",
    "import mlflow.sklearn\n",
    "from sklearn.ensemble import RandomForestRegressor\n",
    "from sklearn.model_selection import train_test_split, GridSearchCV"
   ]
  },
  {
   "cell_type": "code",
   "execution_count": 4,
   "id": "68bf4e77",
   "metadata": {},
   "outputs": [],
   "source": [
    "from sklearn.metrics import mean_squared_error\n",
    "from sklearn.datasets import fetch_california_housing\n",
    "\n",
    "housing = fetch_california_housing()"
   ]
  },
  {
   "cell_type": "code",
   "execution_count": 6,
   "id": "eff38922",
   "metadata": {},
   "outputs": [
    {
     "data": {
      "application/vnd.microsoft.datawrangler.viewer.v0+json": {
       "columns": [
        {
         "name": "index",
         "rawType": "int64",
         "type": "integer"
        },
        {
         "name": "MedInc",
         "rawType": "float64",
         "type": "float"
        },
        {
         "name": "HouseAge",
         "rawType": "float64",
         "type": "float"
        },
        {
         "name": "AveRooms",
         "rawType": "float64",
         "type": "float"
        },
        {
         "name": "AveBedrms",
         "rawType": "float64",
         "type": "float"
        },
        {
         "name": "Population",
         "rawType": "float64",
         "type": "float"
        },
        {
         "name": "AveOccup",
         "rawType": "float64",
         "type": "float"
        },
        {
         "name": "Latitude",
         "rawType": "float64",
         "type": "float"
        },
        {
         "name": "Longitude",
         "rawType": "float64",
         "type": "float"
        },
        {
         "name": "Price",
         "rawType": "float64",
         "type": "float"
        }
       ],
       "ref": "3100494b-5b87-46ed-9ad3-27d5e97939c3",
       "rows": [
        [
         "0",
         "8.3252",
         "41.0",
         "6.984126984126984",
         "1.0238095238095237",
         "322.0",
         "2.5555555555555554",
         "37.88",
         "-122.23",
         "4.526"
        ],
        [
         "1",
         "8.3014",
         "21.0",
         "6.238137082601054",
         "0.9718804920913884",
         "2401.0",
         "2.109841827768014",
         "37.86",
         "-122.22",
         "3.585"
        ],
        [
         "2",
         "7.2574",
         "52.0",
         "8.288135593220339",
         "1.073446327683616",
         "496.0",
         "2.8022598870056497",
         "37.85",
         "-122.24",
         "3.521"
        ],
        [
         "3",
         "5.6431",
         "52.0",
         "5.8173515981735155",
         "1.0730593607305936",
         "558.0",
         "2.547945205479452",
         "37.85",
         "-122.25",
         "3.413"
        ],
        [
         "4",
         "3.8462",
         "52.0",
         "6.281853281853282",
         "1.0810810810810811",
         "565.0",
         "2.1814671814671813",
         "37.85",
         "-122.25",
         "3.422"
        ]
       ],
       "shape": {
        "columns": 9,
        "rows": 5
       }
      },
      "text/html": [
       "<div>\n",
       "<style scoped>\n",
       "    .dataframe tbody tr th:only-of-type {\n",
       "        vertical-align: middle;\n",
       "    }\n",
       "\n",
       "    .dataframe tbody tr th {\n",
       "        vertical-align: top;\n",
       "    }\n",
       "\n",
       "    .dataframe thead th {\n",
       "        text-align: right;\n",
       "    }\n",
       "</style>\n",
       "<table border=\"1\" class=\"dataframe\">\n",
       "  <thead>\n",
       "    <tr style=\"text-align: right;\">\n",
       "      <th></th>\n",
       "      <th>MedInc</th>\n",
       "      <th>HouseAge</th>\n",
       "      <th>AveRooms</th>\n",
       "      <th>AveBedrms</th>\n",
       "      <th>Population</th>\n",
       "      <th>AveOccup</th>\n",
       "      <th>Latitude</th>\n",
       "      <th>Longitude</th>\n",
       "      <th>Price</th>\n",
       "    </tr>\n",
       "  </thead>\n",
       "  <tbody>\n",
       "    <tr>\n",
       "      <th>0</th>\n",
       "      <td>8.3252</td>\n",
       "      <td>41.0</td>\n",
       "      <td>6.984127</td>\n",
       "      <td>1.023810</td>\n",
       "      <td>322.0</td>\n",
       "      <td>2.555556</td>\n",
       "      <td>37.88</td>\n",
       "      <td>-122.23</td>\n",
       "      <td>4.526</td>\n",
       "    </tr>\n",
       "    <tr>\n",
       "      <th>1</th>\n",
       "      <td>8.3014</td>\n",
       "      <td>21.0</td>\n",
       "      <td>6.238137</td>\n",
       "      <td>0.971880</td>\n",
       "      <td>2401.0</td>\n",
       "      <td>2.109842</td>\n",
       "      <td>37.86</td>\n",
       "      <td>-122.22</td>\n",
       "      <td>3.585</td>\n",
       "    </tr>\n",
       "    <tr>\n",
       "      <th>2</th>\n",
       "      <td>7.2574</td>\n",
       "      <td>52.0</td>\n",
       "      <td>8.288136</td>\n",
       "      <td>1.073446</td>\n",
       "      <td>496.0</td>\n",
       "      <td>2.802260</td>\n",
       "      <td>37.85</td>\n",
       "      <td>-122.24</td>\n",
       "      <td>3.521</td>\n",
       "    </tr>\n",
       "    <tr>\n",
       "      <th>3</th>\n",
       "      <td>5.6431</td>\n",
       "      <td>52.0</td>\n",
       "      <td>5.817352</td>\n",
       "      <td>1.073059</td>\n",
       "      <td>558.0</td>\n",
       "      <td>2.547945</td>\n",
       "      <td>37.85</td>\n",
       "      <td>-122.25</td>\n",
       "      <td>3.413</td>\n",
       "    </tr>\n",
       "    <tr>\n",
       "      <th>4</th>\n",
       "      <td>3.8462</td>\n",
       "      <td>52.0</td>\n",
       "      <td>6.281853</td>\n",
       "      <td>1.081081</td>\n",
       "      <td>565.0</td>\n",
       "      <td>2.181467</td>\n",
       "      <td>37.85</td>\n",
       "      <td>-122.25</td>\n",
       "      <td>3.422</td>\n",
       "    </tr>\n",
       "  </tbody>\n",
       "</table>\n",
       "</div>"
      ],
      "text/plain": [
       "   MedInc  HouseAge  AveRooms  AveBedrms  ...  AveOccup  Latitude  Longitude  Price\n",
       "0  8.3252      41.0  6.984127   1.023810  ...  2.555556     37.88    -122.23  4.526\n",
       "1  8.3014      21.0  6.238137   0.971880  ...  2.109842     37.86    -122.22  3.585\n",
       "2  7.2574      52.0  8.288136   1.073446  ...  2.802260     37.85    -122.24  3.521\n",
       "3  5.6431      52.0  5.817352   1.073059  ...  2.547945     37.85    -122.25  3.413\n",
       "4  3.8462      52.0  6.281853   1.081081  ...  2.181467     37.85    -122.25  3.422\n",
       "\n",
       "[5 rows x 9 columns]"
      ]
     },
     "execution_count": 6,
     "metadata": {},
     "output_type": "execute_result"
    }
   ],
   "source": [
    "#preparing the dataset\n",
    "\n",
    "data = pd.DataFrame(housing.data,columns=housing.feature_names)\n",
    "data['Price'] = housing.target \n",
    "\n",
    "data.head(5)"
   ]
  },
  {
   "cell_type": "code",
   "execution_count": 8,
   "id": "ce3329cb",
   "metadata": {},
   "outputs": [
    {
     "data": {
      "application/vnd.microsoft.datawrangler.viewer.v0+json": {
       "columns": [
        {
         "name": "index",
         "rawType": "object",
         "type": "string"
        },
        {
         "name": "MedInc",
         "rawType": "float64",
         "type": "float"
        },
        {
         "name": "HouseAge",
         "rawType": "float64",
         "type": "float"
        },
        {
         "name": "AveRooms",
         "rawType": "float64",
         "type": "float"
        },
        {
         "name": "AveBedrms",
         "rawType": "float64",
         "type": "float"
        },
        {
         "name": "Population",
         "rawType": "float64",
         "type": "float"
        },
        {
         "name": "AveOccup",
         "rawType": "float64",
         "type": "float"
        },
        {
         "name": "Latitude",
         "rawType": "float64",
         "type": "float"
        },
        {
         "name": "Longitude",
         "rawType": "float64",
         "type": "float"
        },
        {
         "name": "Price",
         "rawType": "float64",
         "type": "float"
        }
       ],
       "ref": "7fe2eaa0-9b99-4cd2-bc4c-1cbeda39ed53",
       "rows": [
        [
         "count",
         "20640.0",
         "20640.0",
         "20640.0",
         "20640.0",
         "20640.0",
         "20640.0",
         "20640.0",
         "20640.0",
         "20640.0"
        ],
        [
         "mean",
         "3.8706710029069766",
         "28.639486434108527",
         "5.428999742190376",
         "1.096675149606208",
         "1425.4767441860465",
         "3.0706551594363742",
         "35.63186143410853",
         "-119.56970445736432",
         "2.068558169089147"
        ],
        [
         "std",
         "1.8998217179452688",
         "12.58555761211165",
         "2.4741731394243187",
         "0.473910856795466",
         "1132.462121765341",
         "10.386049562213618",
         "2.1359523974571153",
         "2.0035317235025882",
         "1.1539561587441387"
        ],
        [
         "min",
         "0.4999",
         "1.0",
         "0.8461538461538461",
         "0.3333333333333333",
         "3.0",
         "0.6923076923076923",
         "32.54",
         "-124.35",
         "0.14999"
        ],
        [
         "25%",
         "2.5633999999999997",
         "18.0",
         "4.440716235896959",
         "1.006079046038478",
         "787.0",
         "2.4297411475535755",
         "33.93",
         "-121.8",
         "1.196"
        ],
        [
         "50%",
         "3.5347999999999997",
         "29.0",
         "5.229128787878788",
         "1.048780487804878",
         "1166.0",
         "2.818115654360196",
         "34.26",
         "-118.49",
         "1.797"
        ],
        [
         "75%",
         "4.74325",
         "37.0",
         "6.052380952380952",
         "1.099526066350711",
         "1725.0",
         "3.2822609242736216",
         "37.71",
         "-118.01",
         "2.6472499999999997"
        ],
        [
         "max",
         "15.0001",
         "52.0",
         "141.9090909090909",
         "34.06666666666667",
         "35682.0",
         "1243.3333333333333",
         "41.95",
         "-114.31",
         "5.00001"
        ]
       ],
       "shape": {
        "columns": 9,
        "rows": 8
       }
      },
      "text/html": [
       "<div>\n",
       "<style scoped>\n",
       "    .dataframe tbody tr th:only-of-type {\n",
       "        vertical-align: middle;\n",
       "    }\n",
       "\n",
       "    .dataframe tbody tr th {\n",
       "        vertical-align: top;\n",
       "    }\n",
       "\n",
       "    .dataframe thead th {\n",
       "        text-align: right;\n",
       "    }\n",
       "</style>\n",
       "<table border=\"1\" class=\"dataframe\">\n",
       "  <thead>\n",
       "    <tr style=\"text-align: right;\">\n",
       "      <th></th>\n",
       "      <th>MedInc</th>\n",
       "      <th>HouseAge</th>\n",
       "      <th>AveRooms</th>\n",
       "      <th>AveBedrms</th>\n",
       "      <th>Population</th>\n",
       "      <th>AveOccup</th>\n",
       "      <th>Latitude</th>\n",
       "      <th>Longitude</th>\n",
       "      <th>Price</th>\n",
       "    </tr>\n",
       "  </thead>\n",
       "  <tbody>\n",
       "    <tr>\n",
       "      <th>count</th>\n",
       "      <td>20640.000000</td>\n",
       "      <td>20640.000000</td>\n",
       "      <td>20640.000000</td>\n",
       "      <td>20640.000000</td>\n",
       "      <td>20640.000000</td>\n",
       "      <td>20640.000000</td>\n",
       "      <td>20640.000000</td>\n",
       "      <td>20640.000000</td>\n",
       "      <td>20640.000000</td>\n",
       "    </tr>\n",
       "    <tr>\n",
       "      <th>mean</th>\n",
       "      <td>3.870671</td>\n",
       "      <td>28.639486</td>\n",
       "      <td>5.429000</td>\n",
       "      <td>1.096675</td>\n",
       "      <td>1425.476744</td>\n",
       "      <td>3.070655</td>\n",
       "      <td>35.631861</td>\n",
       "      <td>-119.569704</td>\n",
       "      <td>2.068558</td>\n",
       "    </tr>\n",
       "    <tr>\n",
       "      <th>std</th>\n",
       "      <td>1.899822</td>\n",
       "      <td>12.585558</td>\n",
       "      <td>2.474173</td>\n",
       "      <td>0.473911</td>\n",
       "      <td>1132.462122</td>\n",
       "      <td>10.386050</td>\n",
       "      <td>2.135952</td>\n",
       "      <td>2.003532</td>\n",
       "      <td>1.153956</td>\n",
       "    </tr>\n",
       "    <tr>\n",
       "      <th>min</th>\n",
       "      <td>0.499900</td>\n",
       "      <td>1.000000</td>\n",
       "      <td>0.846154</td>\n",
       "      <td>0.333333</td>\n",
       "      <td>3.000000</td>\n",
       "      <td>0.692308</td>\n",
       "      <td>32.540000</td>\n",
       "      <td>-124.350000</td>\n",
       "      <td>0.149990</td>\n",
       "    </tr>\n",
       "    <tr>\n",
       "      <th>25%</th>\n",
       "      <td>2.563400</td>\n",
       "      <td>18.000000</td>\n",
       "      <td>4.440716</td>\n",
       "      <td>1.006079</td>\n",
       "      <td>787.000000</td>\n",
       "      <td>2.429741</td>\n",
       "      <td>33.930000</td>\n",
       "      <td>-121.800000</td>\n",
       "      <td>1.196000</td>\n",
       "    </tr>\n",
       "    <tr>\n",
       "      <th>50%</th>\n",
       "      <td>3.534800</td>\n",
       "      <td>29.000000</td>\n",
       "      <td>5.229129</td>\n",
       "      <td>1.048780</td>\n",
       "      <td>1166.000000</td>\n",
       "      <td>2.818116</td>\n",
       "      <td>34.260000</td>\n",
       "      <td>-118.490000</td>\n",
       "      <td>1.797000</td>\n",
       "    </tr>\n",
       "    <tr>\n",
       "      <th>75%</th>\n",
       "      <td>4.743250</td>\n",
       "      <td>37.000000</td>\n",
       "      <td>6.052381</td>\n",
       "      <td>1.099526</td>\n",
       "      <td>1725.000000</td>\n",
       "      <td>3.282261</td>\n",
       "      <td>37.710000</td>\n",
       "      <td>-118.010000</td>\n",
       "      <td>2.647250</td>\n",
       "    </tr>\n",
       "    <tr>\n",
       "      <th>max</th>\n",
       "      <td>15.000100</td>\n",
       "      <td>52.000000</td>\n",
       "      <td>141.909091</td>\n",
       "      <td>34.066667</td>\n",
       "      <td>35682.000000</td>\n",
       "      <td>1243.333333</td>\n",
       "      <td>41.950000</td>\n",
       "      <td>-114.310000</td>\n",
       "      <td>5.000010</td>\n",
       "    </tr>\n",
       "  </tbody>\n",
       "</table>\n",
       "</div>"
      ],
      "text/plain": [
       "             MedInc      HouseAge  ...     Longitude         Price\n",
       "count  20640.000000  20640.000000  ...  20640.000000  20640.000000\n",
       "mean       3.870671     28.639486  ...   -119.569704      2.068558\n",
       "std        1.899822     12.585558  ...      2.003532      1.153956\n",
       "min        0.499900      1.000000  ...   -124.350000      0.149990\n",
       "25%        2.563400     18.000000  ...   -121.800000      1.196000\n",
       "50%        3.534800     29.000000  ...   -118.490000      1.797000\n",
       "75%        4.743250     37.000000  ...   -118.010000      2.647250\n",
       "max       15.000100     52.000000  ...   -114.310000      5.000010\n",
       "\n",
       "[8 rows x 9 columns]"
      ]
     },
     "execution_count": 8,
     "metadata": {},
     "output_type": "execute_result"
    }
   ],
   "source": [
    "from urllib.parse import urlparse # used for mlflow experiments \n",
    "\n",
    "data.describe()"
   ]
  },
  {
   "cell_type": "code",
   "execution_count": 14,
   "id": "22c3fde4",
   "metadata": {},
   "outputs": [],
   "source": [
    "# indepedent and dependent features \n",
    "\n",
    "X = data.drop(columns=[\"Price\"])\n",
    "y = data[\"Price\"]"
   ]
  },
  {
   "cell_type": "code",
   "execution_count": null,
   "id": "305c325e",
   "metadata": {},
   "outputs": [],
   "source": [
    "X_train, X_test, y_train, y_test = train_test_split(X,y, test_size=0.2)\n",
    "\n",
    "from mlflow.models import infer_signature\n",
    "signature = infer_signature(X_train,y_train)\n"
   ]
  }
 ],
 "metadata": {
  "kernelspec": {
   "display_name": "projects",
   "language": "python",
   "name": "python3"
  },
  "language_info": {
   "codemirror_mode": {
    "name": "ipython",
    "version": 3
   },
   "file_extension": ".py",
   "mimetype": "text/x-python",
   "name": "python",
   "nbconvert_exporter": "python",
   "pygments_lexer": "ipython3",
   "version": "3.9.21"
  }
 },
 "nbformat": 4,
 "nbformat_minor": 5
}
